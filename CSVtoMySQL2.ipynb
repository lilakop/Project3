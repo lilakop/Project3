{
 "cells": [
  {
   "cell_type": "code",
   "execution_count": 1,
   "metadata": {},
   "outputs": [],
   "source": [
    "#importing all dependencies needed\n",
    "import pandas as pd\n",
    "from sqlalchemy import create_engine\n",
    "import matplotlib.pyplot as plt\n",
    "from sklearn.model_selection import train_test_split\n",
    "import numpy as np"
   ]
  },
  {
   "cell_type": "code",
   "execution_count": 3,
   "metadata": {},
   "outputs": [],
   "source": [
    "#using the create_engine function to connect to our local DataBase. \n",
    "rds_connection_string = \"root:kaba.611@localhost/marketing_db\"\n",
    "engine = create_engine(f'mysql+pymysql://{rds_connection_string}')"
   ]
  },
  {
   "cell_type": "code",
   "execution_count": 3,
   "metadata": {},
   "outputs": [
    {
     "data": {
      "text/plain": [
       "['channels', 'marketing_subset', 'summary_table']"
      ]
     },
     "execution_count": 3,
     "metadata": {},
     "output_type": "execute_result"
    }
   ],
   "source": [
    "engine.table_names()"
   ]
  },
  {
   "cell_type": "code",
   "execution_count": 4,
   "metadata": {},
   "outputs": [
    {
     "data": {
      "text/html": [
       "<div>\n",
       "<style scoped>\n",
       "    .dataframe tbody tr th:only-of-type {\n",
       "        vertical-align: middle;\n",
       "    }\n",
       "\n",
       "    .dataframe tbody tr th {\n",
       "        vertical-align: top;\n",
       "    }\n",
       "\n",
       "    .dataframe thead th {\n",
       "        text-align: right;\n",
       "    }\n",
       "</style>\n",
       "<table border=\"1\" class=\"dataframe\">\n",
       "  <thead>\n",
       "    <tr style=\"text-align: right;\">\n",
       "      <th></th>\n",
       "      <th>day</th>\n",
       "      <th>advertiser_id</th>\n",
       "      <th>channel_id</th>\n",
       "      <th>impressions</th>\n",
       "      <th>verified_visits</th>\n",
       "      <th>verified_visit_conversions</th>\n",
       "      <th>verified_visit_total_order_value</th>\n",
       "      <th>total_spend</th>\n",
       "    </tr>\n",
       "  </thead>\n",
       "  <tbody>\n",
       "    <tr>\n",
       "      <th>0</th>\n",
       "      <td>2017-07-09</td>\n",
       "      <td>12274</td>\n",
       "      <td>6</td>\n",
       "      <td>8870</td>\n",
       "      <td>17</td>\n",
       "      <td>0</td>\n",
       "      <td>0.00</td>\n",
       "      <td>53.2200</td>\n",
       "    </tr>\n",
       "    <tr>\n",
       "      <th>1</th>\n",
       "      <td>2017-07-09</td>\n",
       "      <td>12283</td>\n",
       "      <td>1</td>\n",
       "      <td>6648</td>\n",
       "      <td>16</td>\n",
       "      <td>0</td>\n",
       "      <td>0.00</td>\n",
       "      <td>36.6598</td>\n",
       "    </tr>\n",
       "    <tr>\n",
       "      <th>2</th>\n",
       "      <td>2017-07-09</td>\n",
       "      <td>12283</td>\n",
       "      <td>6</td>\n",
       "      <td>10015</td>\n",
       "      <td>20</td>\n",
       "      <td>0</td>\n",
       "      <td>0.00</td>\n",
       "      <td>52.7699</td>\n",
       "    </tr>\n",
       "    <tr>\n",
       "      <th>3</th>\n",
       "      <td>2017-07-09</td>\n",
       "      <td>12289</td>\n",
       "      <td>1</td>\n",
       "      <td>52430</td>\n",
       "      <td>68</td>\n",
       "      <td>21</td>\n",
       "      <td>1231.64</td>\n",
       "      <td>183.2288</td>\n",
       "    </tr>\n",
       "    <tr>\n",
       "      <th>4</th>\n",
       "      <td>2017-07-09</td>\n",
       "      <td>12289</td>\n",
       "      <td>6</td>\n",
       "      <td>8814</td>\n",
       "      <td>20</td>\n",
       "      <td>0</td>\n",
       "      <td>0.00</td>\n",
       "      <td>20.9973</td>\n",
       "    </tr>\n",
       "  </tbody>\n",
       "</table>\n",
       "</div>"
      ],
      "text/plain": [
       "          day  advertiser_id  channel_id  impressions  verified_visits  \\\n",
       "0  2017-07-09          12274           6         8870               17   \n",
       "1  2017-07-09          12283           1         6648               16   \n",
       "2  2017-07-09          12283           6        10015               20   \n",
       "3  2017-07-09          12289           1        52430               68   \n",
       "4  2017-07-09          12289           6         8814               20   \n",
       "\n",
       "   verified_visit_conversions  verified_visit_total_order_value  total_spend  \n",
       "0                           0                              0.00      53.2200  \n",
       "1                           0                              0.00      36.6598  \n",
       "2                           0                              0.00      52.7699  \n",
       "3                          21                           1231.64     183.2288  \n",
       "4                           0                              0.00      20.9973  "
      ]
     },
     "execution_count": 4,
     "metadata": {},
     "output_type": "execute_result"
    }
   ],
   "source": [
    "csv_file = \"~/Documents/Data_Analytic_Boot_Camp/Project4/Marketing_Subset.csv\"\n",
    "summary_df = pd.read_csv(csv_file)\n",
    "summary_df.to_sql(name='summary_table', con=engine, if_exists='append', index=False)\n",
    "pd.read_sql_query('select * from summary_table', con=engine).head()"
   ]
  },
  {
   "cell_type": "code",
   "execution_count": 4,
   "metadata": {},
   "outputs": [
    {
     "data": {
      "text/html": [
       "<div>\n",
       "<style scoped>\n",
       "    .dataframe tbody tr th:only-of-type {\n",
       "        vertical-align: middle;\n",
       "    }\n",
       "\n",
       "    .dataframe tbody tr th {\n",
       "        vertical-align: top;\n",
       "    }\n",
       "\n",
       "    .dataframe thead th {\n",
       "        text-align: right;\n",
       "    }\n",
       "</style>\n",
       "<table border=\"1\" class=\"dataframe\">\n",
       "  <thead>\n",
       "    <tr style=\"text-align: right;\">\n",
       "      <th></th>\n",
       "      <th>channel_id</th>\n",
       "      <th>name</th>\n",
       "    </tr>\n",
       "  </thead>\n",
       "  <tbody>\n",
       "    <tr>\n",
       "      <th>0</th>\n",
       "      <td>10</td>\n",
       "      <td>Twitter Retargeting</td>\n",
       "    </tr>\n",
       "    <tr>\n",
       "      <th>1</th>\n",
       "      <td>14</td>\n",
       "      <td>Connected TV</td>\n",
       "    </tr>\n",
       "    <tr>\n",
       "      <th>2</th>\n",
       "      <td>15</td>\n",
       "      <td>Ad Serving</td>\n",
       "    </tr>\n",
       "    <tr>\n",
       "      <th>3</th>\n",
       "      <td>13</td>\n",
       "      <td>In-App Retargeting</td>\n",
       "    </tr>\n",
       "    <tr>\n",
       "      <th>4</th>\n",
       "      <td>5</td>\n",
       "      <td>Facebook Retargeting</td>\n",
       "    </tr>\n",
       "  </tbody>\n",
       "</table>\n",
       "</div>"
      ],
      "text/plain": [
       "   channel_id                  name\n",
       "0          10   Twitter Retargeting\n",
       "1          14          Connected TV\n",
       "2          15            Ad Serving\n",
       "3          13    In-App Retargeting\n",
       "4           5  Facebook Retargeting"
      ]
     },
     "execution_count": 4,
     "metadata": {},
     "output_type": "execute_result"
    }
   ],
   "source": [
    "csv_file = \"~/Documents/Data_Analytic_Boot_Camp/Project4/Channels.csv\"\n",
    "summary_df = pd.read_csv(csv_file)\n",
    "summary_df.to_sql(name='channels', con=engine, if_exists='append', index=False)\n",
    "pd.read_sql_query('select * from channels', con=engine).head()"
   ]
  },
  {
   "cell_type": "code",
   "execution_count": 6,
   "metadata": {},
   "outputs": [
    {
     "data": {
      "text/html": [
       "<div>\n",
       "<style scoped>\n",
       "    .dataframe tbody tr th:only-of-type {\n",
       "        vertical-align: middle;\n",
       "    }\n",
       "\n",
       "    .dataframe tbody tr th {\n",
       "        vertical-align: top;\n",
       "    }\n",
       "\n",
       "    .dataframe thead th {\n",
       "        text-align: right;\n",
       "    }\n",
       "</style>\n",
       "<table border=\"1\" class=\"dataframe\">\n",
       "  <thead>\n",
       "    <tr style=\"text-align: right;\">\n",
       "      <th></th>\n",
       "      <th>channel_id</th>\n",
       "      <th>name</th>\n",
       "    </tr>\n",
       "  </thead>\n",
       "  <tbody>\n",
       "    <tr>\n",
       "      <th>0</th>\n",
       "      <td>10</td>\n",
       "      <td>Twitter Retargeting</td>\n",
       "    </tr>\n",
       "    <tr>\n",
       "      <th>1</th>\n",
       "      <td>14</td>\n",
       "      <td>Connected TV</td>\n",
       "    </tr>\n",
       "    <tr>\n",
       "      <th>2</th>\n",
       "      <td>15</td>\n",
       "      <td>Ad Serving</td>\n",
       "    </tr>\n",
       "    <tr>\n",
       "      <th>3</th>\n",
       "      <td>13</td>\n",
       "      <td>In-App Retargeting</td>\n",
       "    </tr>\n",
       "    <tr>\n",
       "      <th>4</th>\n",
       "      <td>5</td>\n",
       "      <td>Facebook Retargeting</td>\n",
       "    </tr>\n",
       "    <tr>\n",
       "      <th>5</th>\n",
       "      <td>9</td>\n",
       "      <td>Instagram Retargeting</td>\n",
       "    </tr>\n",
       "    <tr>\n",
       "      <th>6</th>\n",
       "      <td>1</td>\n",
       "      <td>Desktop Retargeting</td>\n",
       "    </tr>\n",
       "    <tr>\n",
       "      <th>7</th>\n",
       "      <td>6</td>\n",
       "      <td>Mobile Web Retargeting</td>\n",
       "    </tr>\n",
       "    <tr>\n",
       "      <th>8</th>\n",
       "      <td>2</td>\n",
       "      <td>Real Time Offers</td>\n",
       "    </tr>\n",
       "    <tr>\n",
       "      <th>9</th>\n",
       "      <td>3</td>\n",
       "      <td>Desktop Prospecting</td>\n",
       "    </tr>\n",
       "    <tr>\n",
       "      <th>10</th>\n",
       "      <td>4</td>\n",
       "      <td>Email</td>\n",
       "    </tr>\n",
       "    <tr>\n",
       "      <th>11</th>\n",
       "      <td>100</td>\n",
       "      <td>Platform Fee</td>\n",
       "    </tr>\n",
       "    <tr>\n",
       "      <th>12</th>\n",
       "      <td>7</td>\n",
       "      <td>Facebook Prospecting</td>\n",
       "    </tr>\n",
       "    <tr>\n",
       "      <th>13</th>\n",
       "      <td>8</td>\n",
       "      <td>Instagram Prospecting</td>\n",
       "    </tr>\n",
       "    <tr>\n",
       "      <th>14</th>\n",
       "      <td>11</td>\n",
       "      <td>Twitter Prospecting</td>\n",
       "    </tr>\n",
       "  </tbody>\n",
       "</table>\n",
       "</div>"
      ],
      "text/plain": [
       "    channel_id                    name\n",
       "0           10     Twitter Retargeting\n",
       "1           14            Connected TV\n",
       "2           15              Ad Serving\n",
       "3           13      In-App Retargeting\n",
       "4            5    Facebook Retargeting\n",
       "5            9   Instagram Retargeting\n",
       "6            1     Desktop Retargeting\n",
       "7            6  Mobile Web Retargeting\n",
       "8            2        Real Time Offers\n",
       "9            3     Desktop Prospecting\n",
       "10           4                   Email\n",
       "11         100            Platform Fee\n",
       "12           7    Facebook Prospecting\n",
       "13           8   Instagram Prospecting\n",
       "14          11     Twitter Prospecting"
      ]
     },
     "execution_count": 6,
     "metadata": {},
     "output_type": "execute_result"
    }
   ],
   "source": [
    "pd.read_sql_query('select distinct channel_id, name from channels', con=engine)"
   ]
  },
  {
   "cell_type": "code",
   "execution_count": null,
   "metadata": {},
   "outputs": [],
   "source": [
    "final = pd.read_sql_query('select * from summary_table join channels using (channel_id);', con=engine)"
   ]
  },
  {
   "cell_type": "code",
   "execution_count": null,
   "metadata": {},
   "outputs": [],
   "source": [
    "final.to_csv('~/Documents/Data_Analytic_Boot_Camp/Project4/Marketing_Master.csv')"
   ]
  },
  {
   "cell_type": "code",
   "execution_count": 2,
   "metadata": {},
   "outputs": [
    {
     "data": {
      "text/html": [
       "<div>\n",
       "<style scoped>\n",
       "    .dataframe tbody tr th:only-of-type {\n",
       "        vertical-align: middle;\n",
       "    }\n",
       "\n",
       "    .dataframe tbody tr th {\n",
       "        vertical-align: top;\n",
       "    }\n",
       "\n",
       "    .dataframe thead th {\n",
       "        text-align: right;\n",
       "    }\n",
       "</style>\n",
       "<table border=\"1\" class=\"dataframe\">\n",
       "  <thead>\n",
       "    <tr style=\"text-align: right;\">\n",
       "      <th></th>\n",
       "      <th>Unnamed: 0</th>\n",
       "      <th>channel_id</th>\n",
       "      <th>day</th>\n",
       "      <th>advertiser_id</th>\n",
       "      <th>impressions</th>\n",
       "      <th>verified_visits</th>\n",
       "      <th>verified_visit_conversions</th>\n",
       "      <th>verified_visit_total_order_value</th>\n",
       "      <th>total_spend</th>\n",
       "      <th>name</th>\n",
       "    </tr>\n",
       "  </thead>\n",
       "  <tbody>\n",
       "    <tr>\n",
       "      <th>0</th>\n",
       "      <td>0</td>\n",
       "      <td>6</td>\n",
       "      <td>2017-07-09</td>\n",
       "      <td>12274</td>\n",
       "      <td>8870</td>\n",
       "      <td>17</td>\n",
       "      <td>0</td>\n",
       "      <td>0.0</td>\n",
       "      <td>53.22</td>\n",
       "      <td>Mobile Web Retargeting</td>\n",
       "    </tr>\n",
       "    <tr>\n",
       "      <th>1</th>\n",
       "      <td>1</td>\n",
       "      <td>6</td>\n",
       "      <td>2017-07-09</td>\n",
       "      <td>12274</td>\n",
       "      <td>8870</td>\n",
       "      <td>17</td>\n",
       "      <td>0</td>\n",
       "      <td>0.0</td>\n",
       "      <td>53.22</td>\n",
       "      <td>Mobile Web Retargeting</td>\n",
       "    </tr>\n",
       "    <tr>\n",
       "      <th>2</th>\n",
       "      <td>2</td>\n",
       "      <td>6</td>\n",
       "      <td>2017-07-09</td>\n",
       "      <td>12274</td>\n",
       "      <td>8870</td>\n",
       "      <td>17</td>\n",
       "      <td>0</td>\n",
       "      <td>0.0</td>\n",
       "      <td>53.22</td>\n",
       "      <td>Mobile Web Retargeting</td>\n",
       "    </tr>\n",
       "    <tr>\n",
       "      <th>3</th>\n",
       "      <td>3</td>\n",
       "      <td>6</td>\n",
       "      <td>2017-07-09</td>\n",
       "      <td>12274</td>\n",
       "      <td>8870</td>\n",
       "      <td>17</td>\n",
       "      <td>0</td>\n",
       "      <td>0.0</td>\n",
       "      <td>53.22</td>\n",
       "      <td>Mobile Web Retargeting</td>\n",
       "    </tr>\n",
       "    <tr>\n",
       "      <th>4</th>\n",
       "      <td>4</td>\n",
       "      <td>6</td>\n",
       "      <td>2017-07-09</td>\n",
       "      <td>12274</td>\n",
       "      <td>8870</td>\n",
       "      <td>17</td>\n",
       "      <td>0</td>\n",
       "      <td>0.0</td>\n",
       "      <td>53.22</td>\n",
       "      <td>Mobile Web Retargeting</td>\n",
       "    </tr>\n",
       "  </tbody>\n",
       "</table>\n",
       "</div>"
      ],
      "text/plain": [
       "   Unnamed: 0  channel_id         day  advertiser_id  impressions  \\\n",
       "0           0           6  2017-07-09          12274         8870   \n",
       "1           1           6  2017-07-09          12274         8870   \n",
       "2           2           6  2017-07-09          12274         8870   \n",
       "3           3           6  2017-07-09          12274         8870   \n",
       "4           4           6  2017-07-09          12274         8870   \n",
       "\n",
       "   verified_visits  verified_visit_conversions  \\\n",
       "0               17                           0   \n",
       "1               17                           0   \n",
       "2               17                           0   \n",
       "3               17                           0   \n",
       "4               17                           0   \n",
       "\n",
       "   verified_visit_total_order_value  total_spend                    name  \n",
       "0                               0.0        53.22  Mobile Web Retargeting  \n",
       "1                               0.0        53.22  Mobile Web Retargeting  \n",
       "2                               0.0        53.22  Mobile Web Retargeting  \n",
       "3                               0.0        53.22  Mobile Web Retargeting  \n",
       "4                               0.0        53.22  Mobile Web Retargeting  "
      ]
     },
     "execution_count": 2,
     "metadata": {},
     "output_type": "execute_result"
    }
   ],
   "source": [
    "final = pd.read_csv('Marketing_Master.csv')\n",
    "final.head()"
   ]
  },
  {
   "cell_type": "code",
   "execution_count": 22,
   "metadata": {},
   "outputs": [
    {
     "data": {
      "text/html": [
       "<div>\n",
       "<style scoped>\n",
       "    .dataframe tbody tr th:only-of-type {\n",
       "        vertical-align: middle;\n",
       "    }\n",
       "\n",
       "    .dataframe tbody tr th {\n",
       "        vertical-align: top;\n",
       "    }\n",
       "\n",
       "    .dataframe thead th {\n",
       "        text-align: right;\n",
       "    }\n",
       "</style>\n",
       "<table border=\"1\" class=\"dataframe\">\n",
       "  <thead>\n",
       "    <tr style=\"text-align: right;\">\n",
       "      <th></th>\n",
       "      <th>day</th>\n",
       "      <th>advertiser_id</th>\n",
       "      <th>channel_id</th>\n",
       "      <th>impressions</th>\n",
       "      <th>verified_visits</th>\n",
       "      <th>verified_visit_conversions</th>\n",
       "      <th>verified_visit_total_order_value</th>\n",
       "      <th>total_spend</th>\n",
       "    </tr>\n",
       "  </thead>\n",
       "  <tbody>\n",
       "    <tr>\n",
       "      <th>0</th>\n",
       "      <td>2017-07-09</td>\n",
       "      <td>12274</td>\n",
       "      <td>6</td>\n",
       "      <td>8870</td>\n",
       "      <td>17</td>\n",
       "      <td>0</td>\n",
       "      <td>0.00</td>\n",
       "      <td>53.2200</td>\n",
       "    </tr>\n",
       "    <tr>\n",
       "      <th>1</th>\n",
       "      <td>2017-07-09</td>\n",
       "      <td>12283</td>\n",
       "      <td>1</td>\n",
       "      <td>6648</td>\n",
       "      <td>16</td>\n",
       "      <td>0</td>\n",
       "      <td>0.00</td>\n",
       "      <td>36.6598</td>\n",
       "    </tr>\n",
       "    <tr>\n",
       "      <th>2</th>\n",
       "      <td>2017-07-09</td>\n",
       "      <td>12283</td>\n",
       "      <td>6</td>\n",
       "      <td>10015</td>\n",
       "      <td>20</td>\n",
       "      <td>0</td>\n",
       "      <td>0.00</td>\n",
       "      <td>52.7699</td>\n",
       "    </tr>\n",
       "    <tr>\n",
       "      <th>3</th>\n",
       "      <td>2017-07-09</td>\n",
       "      <td>12289</td>\n",
       "      <td>1</td>\n",
       "      <td>52430</td>\n",
       "      <td>68</td>\n",
       "      <td>21</td>\n",
       "      <td>1231.64</td>\n",
       "      <td>183.2288</td>\n",
       "    </tr>\n",
       "    <tr>\n",
       "      <th>4</th>\n",
       "      <td>2017-07-09</td>\n",
       "      <td>12289</td>\n",
       "      <td>6</td>\n",
       "      <td>8814</td>\n",
       "      <td>20</td>\n",
       "      <td>0</td>\n",
       "      <td>0.00</td>\n",
       "      <td>20.9973</td>\n",
       "    </tr>\n",
       "  </tbody>\n",
       "</table>\n",
       "</div>"
      ],
      "text/plain": [
       "          day  advertiser_id  channel_id  impressions  verified_visits  \\\n",
       "0  2017-07-09          12274           6         8870               17   \n",
       "1  2017-07-09          12283           1         6648               16   \n",
       "2  2017-07-09          12283           6        10015               20   \n",
       "3  2017-07-09          12289           1        52430               68   \n",
       "4  2017-07-09          12289           6         8814               20   \n",
       "\n",
       "   verified_visit_conversions  verified_visit_total_order_value  total_spend  \n",
       "0                           0                              0.00      53.2200  \n",
       "1                           0                              0.00      36.6598  \n",
       "2                           0                              0.00      52.7699  \n",
       "3                          21                           1231.64     183.2288  \n",
       "4                           0                              0.00      20.9973  "
      ]
     },
     "execution_count": 22,
     "metadata": {},
     "output_type": "execute_result"
    }
   ],
   "source": [
    "summary = pd.read_csv('Marketing_Subset.csv')\n",
    "summary.head()"
   ]
  },
  {
   "cell_type": "code",
   "execution_count": 23,
   "metadata": {},
   "outputs": [
    {
     "data": {
      "text/html": [
       "<div>\n",
       "<style scoped>\n",
       "    .dataframe tbody tr th:only-of-type {\n",
       "        vertical-align: middle;\n",
       "    }\n",
       "\n",
       "    .dataframe tbody tr th {\n",
       "        vertical-align: top;\n",
       "    }\n",
       "\n",
       "    .dataframe thead th {\n",
       "        text-align: right;\n",
       "    }\n",
       "</style>\n",
       "<table border=\"1\" class=\"dataframe\">\n",
       "  <thead>\n",
       "    <tr style=\"text-align: right;\">\n",
       "      <th></th>\n",
       "      <th>day</th>\n",
       "      <th>advertiser_id</th>\n",
       "      <th>channel_id</th>\n",
       "      <th>impressions</th>\n",
       "      <th>verified_visits</th>\n",
       "      <th>verified_visit_conversions</th>\n",
       "      <th>verified_visit_total_order_value</th>\n",
       "      <th>total_spend</th>\n",
       "      <th>purchase_flag</th>\n",
       "    </tr>\n",
       "  </thead>\n",
       "  <tbody>\n",
       "    <tr>\n",
       "      <th>0</th>\n",
       "      <td>2017-07-09</td>\n",
       "      <td>12274</td>\n",
       "      <td>6</td>\n",
       "      <td>8870</td>\n",
       "      <td>17</td>\n",
       "      <td>0</td>\n",
       "      <td>0.00</td>\n",
       "      <td>53.2200</td>\n",
       "      <td>0</td>\n",
       "    </tr>\n",
       "    <tr>\n",
       "      <th>1</th>\n",
       "      <td>2017-07-09</td>\n",
       "      <td>12283</td>\n",
       "      <td>1</td>\n",
       "      <td>6648</td>\n",
       "      <td>16</td>\n",
       "      <td>0</td>\n",
       "      <td>0.00</td>\n",
       "      <td>36.6598</td>\n",
       "      <td>0</td>\n",
       "    </tr>\n",
       "    <tr>\n",
       "      <th>2</th>\n",
       "      <td>2017-07-09</td>\n",
       "      <td>12283</td>\n",
       "      <td>6</td>\n",
       "      <td>10015</td>\n",
       "      <td>20</td>\n",
       "      <td>0</td>\n",
       "      <td>0.00</td>\n",
       "      <td>52.7699</td>\n",
       "      <td>0</td>\n",
       "    </tr>\n",
       "    <tr>\n",
       "      <th>3</th>\n",
       "      <td>2017-07-09</td>\n",
       "      <td>12289</td>\n",
       "      <td>1</td>\n",
       "      <td>52430</td>\n",
       "      <td>68</td>\n",
       "      <td>21</td>\n",
       "      <td>1231.64</td>\n",
       "      <td>183.2288</td>\n",
       "      <td>1</td>\n",
       "    </tr>\n",
       "    <tr>\n",
       "      <th>4</th>\n",
       "      <td>2017-07-09</td>\n",
       "      <td>12289</td>\n",
       "      <td>6</td>\n",
       "      <td>8814</td>\n",
       "      <td>20</td>\n",
       "      <td>0</td>\n",
       "      <td>0.00</td>\n",
       "      <td>20.9973</td>\n",
       "      <td>0</td>\n",
       "    </tr>\n",
       "  </tbody>\n",
       "</table>\n",
       "</div>"
      ],
      "text/plain": [
       "          day  advertiser_id  channel_id  impressions  verified_visits  \\\n",
       "0  2017-07-09          12274           6         8870               17   \n",
       "1  2017-07-09          12283           1         6648               16   \n",
       "2  2017-07-09          12283           6        10015               20   \n",
       "3  2017-07-09          12289           1        52430               68   \n",
       "4  2017-07-09          12289           6         8814               20   \n",
       "\n",
       "   verified_visit_conversions  verified_visit_total_order_value  total_spend  \\\n",
       "0                           0                              0.00      53.2200   \n",
       "1                           0                              0.00      36.6598   \n",
       "2                           0                              0.00      52.7699   \n",
       "3                          21                           1231.64     183.2288   \n",
       "4                           0                              0.00      20.9973   \n",
       "\n",
       "   purchase_flag  \n",
       "0              0  \n",
       "1              0  \n",
       "2              0  \n",
       "3              1  \n",
       "4              0  "
      ]
     },
     "execution_count": 23,
     "metadata": {},
     "output_type": "execute_result"
    }
   ],
   "source": [
    "result = (summary['verified_visit_total_order_value']>0.0)*1\n",
    "summary['purchase_flag'] = result\n",
    "summary.head()"
   ]
  },
  {
   "cell_type": "code",
   "execution_count": 24,
   "metadata": {},
   "outputs": [
    {
     "data": {
      "text/html": [
       "<div>\n",
       "<style scoped>\n",
       "    .dataframe tbody tr th:only-of-type {\n",
       "        vertical-align: middle;\n",
       "    }\n",
       "\n",
       "    .dataframe tbody tr th {\n",
       "        vertical-align: top;\n",
       "    }\n",
       "\n",
       "    .dataframe thead th {\n",
       "        text-align: right;\n",
       "    }\n",
       "</style>\n",
       "<table border=\"1\" class=\"dataframe\">\n",
       "  <thead>\n",
       "    <tr style=\"text-align: right;\">\n",
       "      <th></th>\n",
       "      <th>day</th>\n",
       "      <th>advertiser_id</th>\n",
       "      <th>channel_id</th>\n",
       "      <th>impressions</th>\n",
       "      <th>verified_visits</th>\n",
       "      <th>verified_visit_conversions</th>\n",
       "      <th>verified_visit_total_order_value</th>\n",
       "      <th>total_spend</th>\n",
       "      <th>purchase_flag</th>\n",
       "      <th>purchase_conversions_flag</th>\n",
       "    </tr>\n",
       "  </thead>\n",
       "  <tbody>\n",
       "    <tr>\n",
       "      <th>0</th>\n",
       "      <td>2017-07-09</td>\n",
       "      <td>12274</td>\n",
       "      <td>6</td>\n",
       "      <td>8870</td>\n",
       "      <td>17</td>\n",
       "      <td>0</td>\n",
       "      <td>0.00</td>\n",
       "      <td>53.2200</td>\n",
       "      <td>0</td>\n",
       "      <td>0</td>\n",
       "    </tr>\n",
       "    <tr>\n",
       "      <th>1</th>\n",
       "      <td>2017-07-09</td>\n",
       "      <td>12283</td>\n",
       "      <td>1</td>\n",
       "      <td>6648</td>\n",
       "      <td>16</td>\n",
       "      <td>0</td>\n",
       "      <td>0.00</td>\n",
       "      <td>36.6598</td>\n",
       "      <td>0</td>\n",
       "      <td>0</td>\n",
       "    </tr>\n",
       "    <tr>\n",
       "      <th>2</th>\n",
       "      <td>2017-07-09</td>\n",
       "      <td>12283</td>\n",
       "      <td>6</td>\n",
       "      <td>10015</td>\n",
       "      <td>20</td>\n",
       "      <td>0</td>\n",
       "      <td>0.00</td>\n",
       "      <td>52.7699</td>\n",
       "      <td>0</td>\n",
       "      <td>0</td>\n",
       "    </tr>\n",
       "    <tr>\n",
       "      <th>3</th>\n",
       "      <td>2017-07-09</td>\n",
       "      <td>12289</td>\n",
       "      <td>1</td>\n",
       "      <td>52430</td>\n",
       "      <td>68</td>\n",
       "      <td>21</td>\n",
       "      <td>1231.64</td>\n",
       "      <td>183.2288</td>\n",
       "      <td>1</td>\n",
       "      <td>1</td>\n",
       "    </tr>\n",
       "    <tr>\n",
       "      <th>4</th>\n",
       "      <td>2017-07-09</td>\n",
       "      <td>12289</td>\n",
       "      <td>6</td>\n",
       "      <td>8814</td>\n",
       "      <td>20</td>\n",
       "      <td>0</td>\n",
       "      <td>0.00</td>\n",
       "      <td>20.9973</td>\n",
       "      <td>0</td>\n",
       "      <td>0</td>\n",
       "    </tr>\n",
       "  </tbody>\n",
       "</table>\n",
       "</div>"
      ],
      "text/plain": [
       "          day  advertiser_id  channel_id  impressions  verified_visits  \\\n",
       "0  2017-07-09          12274           6         8870               17   \n",
       "1  2017-07-09          12283           1         6648               16   \n",
       "2  2017-07-09          12283           6        10015               20   \n",
       "3  2017-07-09          12289           1        52430               68   \n",
       "4  2017-07-09          12289           6         8814               20   \n",
       "\n",
       "   verified_visit_conversions  verified_visit_total_order_value  total_spend  \\\n",
       "0                           0                              0.00      53.2200   \n",
       "1                           0                              0.00      36.6598   \n",
       "2                           0                              0.00      52.7699   \n",
       "3                          21                           1231.64     183.2288   \n",
       "4                           0                              0.00      20.9973   \n",
       "\n",
       "   purchase_flag  purchase_conversions_flag  \n",
       "0              0                          0  \n",
       "1              0                          0  \n",
       "2              0                          0  \n",
       "3              1                          1  \n",
       "4              0                          0  "
      ]
     },
     "execution_count": 24,
     "metadata": {},
     "output_type": "execute_result"
    }
   ],
   "source": [
    "result30 = (summary['verified_visit_conversions']>0.0)*1\n",
    "summary['purchase_conversions_flag'] = result30\n",
    "summary.head()"
   ]
  },
  {
   "cell_type": "code",
   "execution_count": 25,
   "metadata": {},
   "outputs": [],
   "source": [
    "#create the bins on based in which data will be held\n",
    "bins = [0,25,50,75,100,150,200,250,300,1000,5000,10000,30000,60000,70000]\n",
    "#create the names for the bins\n",
    "group_names = ['X<25','X<50','X<75','X<100','X<150','X<200','X<250','X<300','X<1K','X<5K','X<10K','X<30K','X<60K','X<70K']"
   ]
  },
  {
   "cell_type": "code",
   "execution_count": 26,
   "metadata": {},
   "outputs": [],
   "source": [
    "summary['spending_group'] = pd.cut(summary['total_spend'],bins,labels=group_names)"
   ]
  },
  {
   "cell_type": "code",
   "execution_count": 27,
   "metadata": {},
   "outputs": [
    {
     "data": {
      "text/html": [
       "<div>\n",
       "<style scoped>\n",
       "    .dataframe tbody tr th:only-of-type {\n",
       "        vertical-align: middle;\n",
       "    }\n",
       "\n",
       "    .dataframe tbody tr th {\n",
       "        vertical-align: top;\n",
       "    }\n",
       "\n",
       "    .dataframe thead th {\n",
       "        text-align: right;\n",
       "    }\n",
       "</style>\n",
       "<table border=\"1\" class=\"dataframe\">\n",
       "  <thead>\n",
       "    <tr style=\"text-align: right;\">\n",
       "      <th></th>\n",
       "      <th>day</th>\n",
       "      <th>advertiser_id</th>\n",
       "      <th>channel_id</th>\n",
       "      <th>impressions</th>\n",
       "      <th>verified_visits</th>\n",
       "      <th>verified_visit_conversions</th>\n",
       "      <th>verified_visit_total_order_value</th>\n",
       "      <th>total_spend</th>\n",
       "      <th>purchase_flag</th>\n",
       "      <th>purchase_conversions_flag</th>\n",
       "      <th>...</th>\n",
       "      <th>spending_group_X&lt;150</th>\n",
       "      <th>spending_group_X&lt;200</th>\n",
       "      <th>spending_group_X&lt;250</th>\n",
       "      <th>spending_group_X&lt;300</th>\n",
       "      <th>spending_group_X&lt;1K</th>\n",
       "      <th>spending_group_X&lt;5K</th>\n",
       "      <th>spending_group_X&lt;10K</th>\n",
       "      <th>spending_group_X&lt;30K</th>\n",
       "      <th>spending_group_X&lt;60K</th>\n",
       "      <th>spending_group_X&lt;70K</th>\n",
       "    </tr>\n",
       "  </thead>\n",
       "  <tbody>\n",
       "    <tr>\n",
       "      <th>0</th>\n",
       "      <td>2017-07-09</td>\n",
       "      <td>12274</td>\n",
       "      <td>6</td>\n",
       "      <td>8870</td>\n",
       "      <td>17</td>\n",
       "      <td>0</td>\n",
       "      <td>0.0</td>\n",
       "      <td>53.22</td>\n",
       "      <td>0</td>\n",
       "      <td>0</td>\n",
       "      <td>...</td>\n",
       "      <td>0</td>\n",
       "      <td>0</td>\n",
       "      <td>0</td>\n",
       "      <td>0</td>\n",
       "      <td>0</td>\n",
       "      <td>0</td>\n",
       "      <td>0</td>\n",
       "      <td>0</td>\n",
       "      <td>0</td>\n",
       "      <td>0</td>\n",
       "    </tr>\n",
       "  </tbody>\n",
       "</table>\n",
       "<p>1 rows × 24 columns</p>\n",
       "</div>"
      ],
      "text/plain": [
       "          day  advertiser_id  channel_id  impressions  verified_visits  \\\n",
       "0  2017-07-09          12274           6         8870               17   \n",
       "\n",
       "   verified_visit_conversions  verified_visit_total_order_value  total_spend  \\\n",
       "0                           0                               0.0        53.22   \n",
       "\n",
       "   purchase_flag  purchase_conversions_flag          ...           \\\n",
       "0              0                          0          ...            \n",
       "\n",
       "   spending_group_X<150  spending_group_X<200  spending_group_X<250  \\\n",
       "0                     0                     0                     0   \n",
       "\n",
       "   spending_group_X<300  spending_group_X<1K  spending_group_X<5K  \\\n",
       "0                     0                    0                    0   \n",
       "\n",
       "   spending_group_X<10K  spending_group_X<30K  spending_group_X<60K  \\\n",
       "0                     0                     0                     0   \n",
       "\n",
       "   spending_group_X<70K  \n",
       "0                     0  \n",
       "\n",
       "[1 rows x 24 columns]"
      ]
     },
     "execution_count": 27,
     "metadata": {},
     "output_type": "execute_result"
    }
   ],
   "source": [
    "#creating categorical data for weekdays and channel_id\n",
    "binary = pd.get_dummies(summary, columns=['spending_group'])\n",
    "binary.head(1)"
   ]
  },
  {
   "cell_type": "code",
   "execution_count": 28,
   "metadata": {},
   "outputs": [
    {
     "data": {
      "text/plain": [
       "impressions             550385\n",
       "spending_group_X<25     550385\n",
       "spending_group_X<50     550385\n",
       "spending_group_X<75     550385\n",
       "spending_group_X<100    550385\n",
       "spending_group_X<150    550385\n",
       "spending_group_X<200    550385\n",
       "spending_group_X<250    550385\n",
       "spending_group_X<300    550385\n",
       "spending_group_X<1K     550385\n",
       "spending_group_X<5K     550385\n",
       "spending_group_X<10K    550385\n",
       "spending_group_X<30K    550385\n",
       "spending_group_X<60K    550385\n",
       "spending_group_X<70K    550385\n",
       "dtype: int64"
      ]
     },
     "execution_count": 28,
     "metadata": {},
     "output_type": "execute_result"
    }
   ],
   "source": [
    "data = binary.drop(columns =['day','channel_id','advertiser_id','verified_visits',\n",
    "                             'verified_visit_conversions','verified_visit_total_order_value',\n",
    "                            'purchase_flag','purchase_conversions_flag','total_spend'])\n",
    "feature_names = data.columns\n",
    "data.count()"
   ]
  },
  {
   "cell_type": "code",
   "execution_count": 31,
   "metadata": {},
   "outputs": [],
   "source": [
    "verified_purchase = summary['purchase_flag']"
   ]
  },
  {
   "cell_type": "code",
   "execution_count": 32,
   "metadata": {},
   "outputs": [],
   "source": [
    "verified_conversions_purchase = summary['purchase_conversions_flag']"
   ]
  },
  {
   "cell_type": "code",
   "execution_count": 33,
   "metadata": {},
   "outputs": [],
   "source": [
    "#import train_test_split to split and train our model\n",
    "from sklearn.model_selection import train_test_split\n",
    "X_train, X_test, y_train, y_test = train_test_split(data,verified_purchase, random_state=45)"
   ]
  },
  {
   "cell_type": "code",
   "execution_count": 34,
   "metadata": {},
   "outputs": [],
   "source": [
    "from sklearn.linear_model import LinearRegression\n",
    "model = LinearRegression()"
   ]
  },
  {
   "cell_type": "code",
   "execution_count": 35,
   "metadata": {},
   "outputs": [
    {
     "data": {
      "text/plain": [
       "LinearRegression(copy_X=True, fit_intercept=True, n_jobs=1, normalize=False)"
      ]
     },
     "execution_count": 35,
     "metadata": {},
     "output_type": "execute_result"
    }
   ],
   "source": [
    "model.fit(X_train,y_train)"
   ]
  },
  {
   "cell_type": "code",
   "execution_count": 36,
   "metadata": {},
   "outputs": [
    {
     "name": "stdout",
     "output_type": "stream",
     "text": [
      "training score: 0.1752660185795343\n",
      "testing score: 0.17281050557361421\n"
     ]
    }
   ],
   "source": [
    "training_score = model.score(X_train,y_train)\n",
    "testing_score = model.score(X_test,y_test)\n",
    "print(f'training score: {training_score}')\n",
    "print(f'testing score: {testing_score}')"
   ]
  },
  {
   "cell_type": "code",
   "execution_count": 37,
   "metadata": {},
   "outputs": [
    {
     "data": {
      "text/plain": [
       "0.6138069870709391"
      ]
     },
     "execution_count": 37,
     "metadata": {},
     "output_type": "execute_result"
    }
   ],
   "source": [
    "#import tree from sklearn for score\n",
    "from sklearn import tree\n",
    "clf = tree.DecisionTreeClassifier()\n",
    "clf = clf.fit(X_train,y_train)\n",
    "clf.score(X_test, y_test)"
   ]
  },
  {
   "cell_type": "code",
   "execution_count": 38,
   "metadata": {},
   "outputs": [
    {
     "name": "stderr",
     "output_type": "stream",
     "text": [
      "C:\\Users\\shuashua\\Anaconda3\\envs\\pythondata\\lib\\site-packages\\sklearn\\ensemble\\weight_boosting.py:29: DeprecationWarning: numpy.core.umath_tests is an internal NumPy module and should not be imported. It will be removed in a future NumPy release.\n",
      "  from numpy.core.umath_tests import inner1d\n"
     ]
    },
    {
     "data": {
      "text/plain": [
       "0.6172300268174451"
      ]
     },
     "execution_count": 38,
     "metadata": {},
     "output_type": "execute_result"
    }
   ],
   "source": [
    "#import RandomForestClassifier to see the importance of each feature, weight of each each feature in the model\n",
    "from sklearn.ensemble import RandomForestClassifier\n",
    "\n",
    "rf = RandomForestClassifier(n_estimators=300,n_jobs=3)\n",
    "rf = rf.fit(X_train,y_train)\n",
    "rf.score(X_test, y_test)"
   ]
  },
  {
   "cell_type": "code",
   "execution_count": 39,
   "metadata": {},
   "outputs": [
    {
     "data": {
      "text/plain": [
       "[(0.8471925851859029, 'impressions'),\n",
       " (0.07668345942275483, 'spending_group_X<25'),\n",
       " (0.023325031938656968, 'spending_group_X<1K'),\n",
       " (0.01703156803161419, 'spending_group_X<5K'),\n",
       " (0.01257453250974727, 'spending_group_X<50'),\n",
       " (0.00617883448018626, 'spending_group_X<75'),\n",
       " (0.0035895785567341314, 'spending_group_X<100'),\n",
       " (0.0032892947048531753, 'spending_group_X<300'),\n",
       " (0.0027069016353968483, 'spending_group_X<250'),\n",
       " (0.0026880474028857103, 'spending_group_X<150'),\n",
       " (0.0026296641864052336, 'spending_group_X<200'),\n",
       " (0.0017554253979842878, 'spending_group_X<10K'),\n",
       " (0.0003278171189023427, 'spending_group_X<30K'),\n",
       " (2.65175738029375e-05, 'spending_group_X<60K'),\n",
       " (7.418541726770786e-07, 'spending_group_X<70K')]"
      ]
     },
     "execution_count": 39,
     "metadata": {},
     "output_type": "execute_result"
    }
   ],
   "source": [
    "sorted(zip(rf.feature_importances_,feature_names),reverse=True)"
   ]
  },
  {
   "cell_type": "code",
   "execution_count": 40,
   "metadata": {},
   "outputs": [
    {
     "data": {
      "text/plain": [
       "spending_group_X<25     550385\n",
       "spending_group_X<50     550385\n",
       "spending_group_X<75     550385\n",
       "spending_group_X<100    550385\n",
       "spending_group_X<150    550385\n",
       "spending_group_X<200    550385\n",
       "spending_group_X<250    550385\n",
       "spending_group_X<300    550385\n",
       "spending_group_X<1K     550385\n",
       "spending_group_X<5K     550385\n",
       "spending_group_X<10K    550385\n",
       "spending_group_X<30K    550385\n",
       "spending_group_X<60K    550385\n",
       "spending_group_X<70K    550385\n",
       "dtype: int64"
      ]
     },
     "execution_count": 40,
     "metadata": {},
     "output_type": "execute_result"
    }
   ],
   "source": [
    "#because impressions takes too large o\n",
    "data2 = binary.drop(columns =['day','impressions','channel_id','advertiser_id','verified_visits',\n",
    "                             'verified_visit_conversions','verified_visit_total_order_value',\n",
    "                            'purchase_flag','purchase_conversions_flag','total_spend'])\n",
    "feature_names = data2.columns\n",
    "data2.count()"
   ]
  },
  {
   "cell_type": "code",
   "execution_count": 41,
   "metadata": {},
   "outputs": [],
   "source": [
    "#import train_test_split to split and train our model\n",
    "from sklearn.model_selection import train_test_split\n",
    "X_train, X_test, y_train, y_test = train_test_split(data2,verified_purchase, random_state=45)"
   ]
  },
  {
   "cell_type": "code",
   "execution_count": 42,
   "metadata": {},
   "outputs": [
    {
     "data": {
      "text/plain": [
       "LinearRegression(copy_X=True, fit_intercept=True, n_jobs=1, normalize=False)"
      ]
     },
     "execution_count": 42,
     "metadata": {},
     "output_type": "execute_result"
    }
   ],
   "source": [
    "model.fit(X_train,y_train)"
   ]
  },
  {
   "cell_type": "code",
   "execution_count": 43,
   "metadata": {},
   "outputs": [
    {
     "name": "stdout",
     "output_type": "stream",
     "text": [
      "training score: 0.17525488300628833\n",
      "testing score: 0.17279427358074229\n"
     ]
    }
   ],
   "source": [
    "training_score = model.score(X_train,y_train)\n",
    "testing_score = model.score(X_test,y_test) \n",
    "print(f'training score: {training_score}')\n",
    "print(f'testing score: {testing_score}')"
   ]
  },
  {
   "cell_type": "code",
   "execution_count": 44,
   "metadata": {},
   "outputs": [
    {
     "data": {
      "text/plain": [
       "0.6789973618610871"
      ]
     },
     "execution_count": 44,
     "metadata": {},
     "output_type": "execute_result"
    }
   ],
   "source": [
    "#import tree from sklearn for score\n",
    "from sklearn import tree\n",
    "clf = tree.DecisionTreeClassifier()\n",
    "clf = clf.fit(X_train,y_train)\n",
    "clf.score(X_test, y_test)"
   ]
  },
  {
   "cell_type": "code",
   "execution_count": 45,
   "metadata": {},
   "outputs": [
    {
     "data": {
      "text/plain": [
       "0.6789973618610871"
      ]
     },
     "execution_count": 45,
     "metadata": {},
     "output_type": "execute_result"
    }
   ],
   "source": [
    "#import RandomForestClassifier to see the importance of each feature, weight of each each feature in the model\n",
    "from sklearn.ensemble import RandomForestClassifier\n",
    "\n",
    "rf = RandomForestClassifier(n_estimators=200,n_jobs=3)\n",
    "rf = rf.fit(X_train,y_train)\n",
    "rf.score(X_test, y_test)"
   ]
  },
  {
   "cell_type": "code",
   "execution_count": 46,
   "metadata": {},
   "outputs": [
    {
     "data": {
      "text/plain": [
       "[(0.48305107665801555, 'spending_group_X<25'),\n",
       " (0.1550682946846109, 'spending_group_X<1K'),\n",
       " (0.1182026900712135, 'spending_group_X<5K'),\n",
       " (0.08596161645600833, 'spending_group_X<50'),\n",
       " (0.034700794068650016, 'spending_group_X<75'),\n",
       " (0.025485009367868402, 'spending_group_X<300'),\n",
       " (0.02314868453850929, 'spending_group_X<200'),\n",
       " (0.021952192804628564, 'spending_group_X<250'),\n",
       " (0.017361537388182705, 'spending_group_X<150'),\n",
       " (0.016436120799436585, 'spending_group_X<100'),\n",
       " (0.015257580863517656, 'spending_group_X<10K'),\n",
       " (0.0031332555290332453, 'spending_group_X<30K'),\n",
       " (0.00023136919419178756, 'spending_group_X<60K'),\n",
       " (9.77757613346497e-06, 'spending_group_X<70K')]"
      ]
     },
     "execution_count": 46,
     "metadata": {},
     "output_type": "execute_result"
    }
   ],
   "source": [
    "sorted(zip(rf.feature_importances_,feature_names),reverse=True)"
   ]
  },
  {
   "cell_type": "code",
   "execution_count": 15,
   "metadata": {},
   "outputs": [
    {
     "data": {
      "text/plain": [
       "array([[ 0.    , 53.22  ],\n",
       "       [ 0.    , 53.22  ],\n",
       "       [ 0.    , 53.22  ],\n",
       "       ...,\n",
       "       [ 0.    , 33.2645],\n",
       "       [ 0.    , 33.2645],\n",
       "       [ 0.    , 33.2645]])"
      ]
     },
     "execution_count": 15,
     "metadata": {},
     "output_type": "execute_result"
    }
   ],
   "source": [
    "#k-means\n",
    "from sklearn.cluster import KMeans\n",
    "kmeans = KMeans(n_clusters=6)\n",
    "\n",
    "data3 = pd.DataFrame(final[['verified_visit_conversions','total_spend']]).values\n",
    "data3"
   ]
  },
  {
   "cell_type": "code",
   "execution_count": 16,
   "metadata": {},
   "outputs": [
    {
     "data": {
      "text/plain": [
       "KMeans(algorithm='auto', copy_x=True, init='k-means++', max_iter=300,\n",
       "    n_clusters=6, n_init=10, n_jobs=1, precompute_distances='auto',\n",
       "    random_state=None, tol=0.0001, verbose=0)"
      ]
     },
     "execution_count": 16,
     "metadata": {},
     "output_type": "execute_result"
    }
   ],
   "source": [
    "kmeans.fit(data3)"
   ]
  },
  {
   "cell_type": "code",
   "execution_count": 17,
   "metadata": {},
   "outputs": [],
   "source": [
    "predicted_clusters = kmeans.predict(data2)"
   ]
  },
  {
   "cell_type": "code",
   "execution_count": 19,
   "metadata": {},
   "outputs": [
    {
     "data": {
      "text/plain": [
       "<matplotlib.collections.PathCollection at 0x2d385b6cf98>"
      ]
     },
     "execution_count": 19,
     "metadata": {},
     "output_type": "execute_result"
    },
    {
     "data": {
      "image/png": "[encoded data removed]",
      "text/plain": [
       "<Figure size 432x288 with 1 Axes>"
      ]
     },
     "metadata": {
      "needs_background": "light"
     },
     "output_type": "display_data"
    }
   ],
   "source": [
    "plt.scatter(data3[:, 1], data3[:, 0], c=predicted_clusters, s=10, cmap='Spectral', alpha=0.05)"
   ]
  },
  {
   "cell_type": "code",
   "execution_count": 12,
   "metadata": {},
   "outputs": [
    {
     "data": {
      "image/png": "[encoded data removed]",
      "text/plain": [
       "<Figure size 432x288 with 1 Axes>"
      ]
     },
     "metadata": {
      "needs_background": "light"
     },
     "output_type": "display_data"
    }
   ],
   "source": [
    "plt.scatter(X[:, 3], X[:, 2], c=y, s=10, cmap=\"Spectral\", alpha=.05)\n",
    "plt.show()"
   ]
  },
  {
   "cell_type": "code",
   "execution_count": 7,
   "metadata": {},
   "outputs": [
    {
     "data": {
      "image/png": "[encoded data removed]",
      "text/plain": [
       "<Figure size 360x360 with 1 Axes>"
      ]
     },
     "metadata": {
      "needs_background": "light"
     },
     "output_type": "display_data"
    }
   ],
   "source": [
    "from mpl_toolkits.mplot3d import Axes3D\n",
    "fig = plt.figure(1, figsize=(5, 5))\n",
    "axes = Axes3D(fig, elev=20, azim=45)\n",
    "axes.scatter(final['total_spend'], final['channel_id'], final['verified_visit_conversions'], c=final['verified_visit_total_order_value'], cmap=\"Spectral\")\n",
    "plt.show()"
   ]
  },
  {
   "cell_type": "code",
   "execution_count": null,
   "metadata": {},
   "outputs": [],
   "source": []
  }
 ],
 "metadata": {
  "kernelspec": {
   "display_name": "Python [conda env:pythondata]",
   "language": "python",
   "name": "conda-env-pythondata-py"
  },
  "language_info": {
   "codemirror_mode": {
    "name": "ipython",
    "version": 3
   },
   "file_extension": ".py",
   "mimetype": "text/x-python",
   "name": "python",
   "nbconvert_exporter": "python",
   "pygments_lexer": "ipython3",
   "version": "3.6.6"
  }
 },
 "nbformat": 4,
 "nbformat_minor": 2
}
